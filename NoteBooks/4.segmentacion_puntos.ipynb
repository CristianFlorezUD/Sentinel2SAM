{
 "cells": [
  {
   "cell_type": "markdown",
   "id": "11680735",
   "metadata": {},
   "source": [
    "<h2 style=\"text-align:center;\" > Estudio de viabilidad en la delimitación de coberturas con imágenes satelitales mediante el modelo Segment Anything: Comparación con la metodología CORINE Land Cover en el municipio de Guatavita.</h2>"
   ]
  },
  {
   "cell_type": "markdown",
   "id": "00073a13",
   "metadata": {},
   "source": [
    "<h2 style=\"text-align:center;\" >Tutorial: Uso de prompts geometricos en la segmentacion</h2>\n",
    "\n",
    "Autores:\n",
    "*   **Cristian Stiven Florez Macias**\n",
    "*   **Sergio Andres Escobar Eslava** "
   ]
  },
  {
   "cell_type": "code",
   "execution_count": null,
   "id": "42489a06",
   "metadata": {
    "vscode": {
     "languageId": "plaintext"
    }
   },
   "outputs": [],
   "source": []
  }
 ],
 "metadata": {
  "language_info": {
   "name": "python"
  }
 },
 "nbformat": 4,
 "nbformat_minor": 5
}
