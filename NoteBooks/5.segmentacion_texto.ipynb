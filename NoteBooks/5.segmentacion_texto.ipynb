{
 "cells": [
  {
   "cell_type": "markdown",
   "id": "7389ade7",
   "metadata": {},
   "source": [
    "<h2 style=\"text-align:center;\" > Estudio de viabilidad en la delimitación de coberturas con imágenes satelitales mediante el modelo Segment Anything: Comparación con la metodología CORINE Land Cover en el municipio de Guatavita.</h2>"
   ]
  },
  {
   "cell_type": "markdown",
   "id": "945dd1e3",
   "metadata": {},
   "source": [
    "<h2 style=\"text-align:center;\" >Tutorial: Uso de prompts de tipo texto en la segmentacion</h2>\n",
    "\n",
    "Autores:\n",
    "*   **Cristian Stiven Florez Macias**\n",
    "*   **Sergio Andres Escobar Eslava** "
   ]
  },
  {
   "cell_type": "code",
   "execution_count": 4,
   "id": "ff7c3b18",
   "metadata": {},
   "outputs": [
    {
     "name": "stdout",
     "output_type": "stream",
     "text": [
      "CUDA disponible: True\n",
      "Versión de PyTorch: 2.7.1+cu118\n"
     ]
    }
   ],
   "source": [
    "# Instalar dependencias necesarias para LangSAM\n",
    "!pip install groundingdino-py --upgrade\n",
    "!pip install segment-geospatial --upgrade\n",
    "!pip install transformers --upgrade\n",
    "\n",
    "# Instalar GroundingDINO directamente desde el repositorio\n",
    "!pip install git+https://github.com/IDEA-Research/GroundingDINO.git\n",
    "from samgeo.text_sam import LangSAM\n",
    "import matplotlib.pyplot as plt\n",
    "import cv2\n",
    "import torch\n",
    "\n",
    "# Verificar que CUDA esté disponible\n",
    "print(f\"CUDA disponible: {torch.cuda.is_available()}\")\n",
    "print(f\"Versión de PyTorch: {torch.__version__}\")"
   ]
  },
  {
   "cell_type": "code",
   "execution_count": 5,
   "id": "d3b477be",
   "metadata": {},
   "outputs": [
    {
     "ename": "NameError",
     "evalue": "name 'SLConfig' is not defined",
     "output_type": "error",
     "traceback": [
      "\u001b[31m---------------------------------------------------------------------------\u001b[39m",
      "\u001b[31mNameError\u001b[39m                                 Traceback (most recent call last)",
      "\u001b[36mCell\u001b[39m\u001b[36m \u001b[39m\u001b[32mIn[5]\u001b[39m\u001b[32m, line 1\u001b[39m\n\u001b[32m----> \u001b[39m\u001b[32m1\u001b[39m sam = \u001b[43mLangSAM\u001b[49m\u001b[43m(\u001b[49m\u001b[43mmodel_type\u001b[49m\u001b[43m=\u001b[49m\u001b[33;43m\"\u001b[39;49m\u001b[33;43msam2-hiera-large\u001b[39;49m\u001b[33;43m\"\u001b[39;49m\u001b[43m)\u001b[49m\n",
      "\u001b[36mFile \u001b[39m\u001b[32mc:\\Users\\Cristian\\Desktop\\Trabajos U\\DEFINITIVO-Proyecto de grado\\.venv\\Lib\\site-packages\\samgeo\\text_sam.py:127\u001b[39m, in \u001b[36mLangSAM.__init__\u001b[39m\u001b[34m(self, model_type, checkpoint)\u001b[39m\n\u001b[32m    116\u001b[39m \u001b[38;5;250m\u001b[39m\u001b[33;03m\"\"\"Initialize the LangSAM instance.\u001b[39;00m\n\u001b[32m    117\u001b[39m \n\u001b[32m    118\u001b[39m \u001b[33;03mArgs:\u001b[39;00m\n\u001b[32m   (...)\u001b[39m\u001b[32m    123\u001b[39m \u001b[33;03m    checkpoint_url (str, optional): The URL to the checkpoint file. Defaults to None\u001b[39;00m\n\u001b[32m    124\u001b[39m \u001b[33;03m\"\"\"\u001b[39;00m\n\u001b[32m    126\u001b[39m \u001b[38;5;28mself\u001b[39m.device = torch.device(\u001b[33m\"\u001b[39m\u001b[33mcuda\u001b[39m\u001b[33m\"\u001b[39m \u001b[38;5;28;01mif\u001b[39;00m torch.cuda.is_available() \u001b[38;5;28;01melse\u001b[39;00m \u001b[33m\"\u001b[39m\u001b[33mcpu\u001b[39m\u001b[33m\"\u001b[39m)\n\u001b[32m--> \u001b[39m\u001b[32m127\u001b[39m \u001b[38;5;28;43mself\u001b[39;49m\u001b[43m.\u001b[49m\u001b[43mbuild_groundingdino\u001b[49m\u001b[43m(\u001b[49m\u001b[43m)\u001b[49m\n\u001b[32m    128\u001b[39m \u001b[38;5;28mself\u001b[39m.build_sam(model_type, checkpoint)\n\u001b[32m    130\u001b[39m \u001b[38;5;28mself\u001b[39m.source = \u001b[38;5;28;01mNone\u001b[39;00m\n",
      "\u001b[36mFile \u001b[39m\u001b[32mc:\\Users\\Cristian\\Desktop\\Trabajos U\\DEFINITIVO-Proyecto de grado\\.venv\\Lib\\site-packages\\samgeo\\text_sam.py:175\u001b[39m, in \u001b[36mLangSAM.build_groundingdino\u001b[39m\u001b[34m(self)\u001b[39m\n\u001b[32m    173\u001b[39m ckpt_filename = \u001b[33m\"\u001b[39m\u001b[33mgroundingdino_swinb_cogcoor.pth\u001b[39m\u001b[33m\"\u001b[39m\n\u001b[32m    174\u001b[39m ckpt_config_filename = \u001b[33m\"\u001b[39m\u001b[33mGroundingDINO_SwinB.cfg.py\u001b[39m\u001b[33m\"\u001b[39m\n\u001b[32m--> \u001b[39m\u001b[32m175\u001b[39m \u001b[38;5;28mself\u001b[39m.groundingdino = \u001b[43mload_model_hf\u001b[49m\u001b[43m(\u001b[49m\n\u001b[32m    176\u001b[39m \u001b[43m    \u001b[49m\u001b[43mckpt_repo_id\u001b[49m\u001b[43m,\u001b[49m\u001b[43m \u001b[49m\u001b[43mckpt_filename\u001b[49m\u001b[43m,\u001b[49m\u001b[43m \u001b[49m\u001b[43mckpt_config_filename\u001b[49m\u001b[43m,\u001b[49m\u001b[43m \u001b[49m\u001b[38;5;28;43mself\u001b[39;49m\u001b[43m.\u001b[49m\u001b[43mdevice\u001b[49m\n\u001b[32m    177\u001b[39m \u001b[43m\u001b[49m\u001b[43m)\u001b[49m\n",
      "\u001b[36mFile \u001b[39m\u001b[32mc:\\Users\\Cristian\\Desktop\\Trabajos U\\DEFINITIVO-Proyecto de grado\\.venv\\Lib\\site-packages\\samgeo\\text_sam.py:76\u001b[39m, in \u001b[36mload_model_hf\u001b[39m\u001b[34m(repo_id, filename, ckpt_config_filename, device)\u001b[39m\n\u001b[32m     58\u001b[39m \u001b[38;5;250m\u001b[39m\u001b[33;03m\"\"\"\u001b[39;00m\n\u001b[32m     59\u001b[39m \u001b[33;03mLoads a model from HuggingFace Model Hub.\u001b[39;00m\n\u001b[32m     60\u001b[39m \n\u001b[32m   (...)\u001b[39m\u001b[32m     68\u001b[39m \u001b[33;03m    torch.nn.Module: The loaded model.\u001b[39;00m\n\u001b[32m     69\u001b[39m \u001b[33;03m\"\"\"\u001b[39;00m\n\u001b[32m     71\u001b[39m cache_config_file = hf_hub_download(\n\u001b[32m     72\u001b[39m     repo_id=repo_id,\n\u001b[32m     73\u001b[39m     filename=ckpt_config_filename,\n\u001b[32m     74\u001b[39m     force_filename=ckpt_config_filename,\n\u001b[32m     75\u001b[39m )\n\u001b[32m---> \u001b[39m\u001b[32m76\u001b[39m args = \u001b[43mSLConfig\u001b[49m.fromfile(cache_config_file)\n\u001b[32m     77\u001b[39m model = build_model(args)\n\u001b[32m     78\u001b[39m model.to(device)\n",
      "\u001b[31mNameError\u001b[39m: name 'SLConfig' is not defined"
     ]
    }
   ],
   "source": [
    "sam = LangSAM(model_type=\"sam2-hiera-large\")"
   ]
  },
  {
   "cell_type": "code",
   "execution_count": 42,
   "id": "ca998bb2",
   "metadata": {},
   "outputs": [],
   "source": [
    "prompts_pos = \"agua, cuerpo de agua, lago, embalse, superficie de agua, laguna\"\n",
    "sam.predict('../tiles/Sentinel/Guatavita_0_crop.tif', prompts_pos, box_threshold=0.45, text_threshold=0.9)"
   ]
  },
  {
   "cell_type": "code",
   "execution_count": 48,
   "id": "ca69f21a",
   "metadata": {},
   "outputs": [
    {
     "data": {
      "image/png": "[encoded data removed]",
      "text/plain": [
       "<Figure size 1200x1000 with 1 Axes>"
      ]
     },
     "metadata": {},
     "output_type": "display_data"
    }
   ],
   "source": [
    "sam.show_anns(\n",
    "    cmap=\"Greys_r\",\n",
    "    add_boxes=False,\n",
    "    alpha=1,\n",
    "    title=\"Segmentation de cuerpos de agua\",\n",
    "    blend=False,\n",
    "    output=\"water_bodies.tif\",\n",
    ")"
   ]
  }
 ],
 "metadata": {
  "kernelspec": {
   "display_name": ".venv",
   "language": "python",
   "name": "python3"
  },
  "language_info": {
   "codemirror_mode": {
    "name": "ipython",
    "version": 3
   },
   "file_extension": ".py",
   "mimetype": "text/x-python",
   "name": "python",
   "nbconvert_exporter": "python",
   "pygments_lexer": "ipython3",
   "version": "3.13.0"
  }
 },
 "nbformat": 4,
 "nbformat_minor": 5
}
