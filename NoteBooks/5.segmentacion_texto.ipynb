{
 "cells": [
  {
   "cell_type": "markdown",
   "id": "7389ade7",
   "metadata": {},
   "source": [
    "<h2 style=\"text-align:center;\" > Estudio de viabilidad en la delimitación de coberturas con imágenes satelitales mediante el modelo Segment Anything: Comparación con la metodología CORINE Land Cover en el municipio de Guatavita.</h2>"
   ]
  },
  {
   "cell_type": "markdown",
   "id": "945dd1e3",
   "metadata": {},
   "source": [
    "<h2 style=\"text-align:center;\" >Tutorial: Uso de prompts de tipo texto en la segmentacion</h2>\n",
    "\n",
    "Autores:\n",
    "*   **Cristian Stiven Florez Macias**\n",
    "*   **Sergio Andres Escobar Eslava** "
   ]
  }
 ],
 "metadata": {
  "language_info": {
   "name": "python"
  }
 },
 "nbformat": 4,
 "nbformat_minor": 5
}
